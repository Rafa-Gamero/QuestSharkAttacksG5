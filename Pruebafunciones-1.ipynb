{
 "cells": [
  {
   "cell_type": "code",
   "execution_count": 12,
   "metadata": {},
   "outputs": [
    {
     "name": "stdout",
     "output_type": "stream",
     "text": [
      "     date             country              state      activity\n",
      "0     NaT           AUSTRALIA         Queensland      Swimming\n",
      "1     NaT                 USA             Hawaii       Surfing\n",
      "2     NaT                 USA             Hawaii      Swimming\n",
      "4     NaT               INDIA        Maharashtra       Fishing\n",
      "6     NaT           AUSTRALIA   New  South Wales      Swimming\n",
      "...   ...                 ...                ...           ...\n",
      "6938  NaT           AUSTRALIA    New South Wales      Swimming\n",
      "6939  NaT           AUSTRALIA  Western Australia        Diving\n",
      "6940  NaT           AUSTRALIA  Western Australia  Pearl diving\n",
      "6941  NaT                 USA     North Carolina      Swimming\n",
      "6943  NaT  CEYLON (SRI LANKA)   Eastern Province      Swimming\n",
      "\n",
      "[5817 rows x 4 columns]\n"
     ]
    }
   ],
   "source": [
    "import pandas as pd\n",
    "import matplotlib.pyplot as plt\n",
    "import seaborn as sns\n",
    "\n",
    "# Cargar el DataFrame desde la URL\n",
    "url = 'https://www.sharkattackfile.net/spreadsheets/GSAF5.xls'\n",
    "df = pd.read_excel(url)\n",
    "\n",
    "# Función para eliminar columnas innecesarias\n",
    "def delete_columns(df):\n",
    "    df_dropped_multiple = df.drop(['Year', 'Type', 'Location', 'Name', 'Sex', 'Age', 'Injury',\n",
    "                                   'Unnamed: 11', 'Time', 'Species ', 'Source', 'pdf', 'href formula',\n",
    "                                   'href', 'Case Number', 'Case Number.1', 'original order',\n",
    "                                   'Unnamed: 21', 'Unnamed: 22'], axis=1)\n",
    "    return df_dropped_multiple\n",
    "\n",
    "# Limpiar el DataFrame\n",
    "df = delete_columns(df)\n",
    "\n",
    "# Función para limpiar los datos\n",
    "def clean_data(df):\n",
    "    df.columns = df.columns.str.lower().str.replace(' ', '_')\n",
    "    df.drop_duplicates(inplace=True)\n",
    "    df = df.dropna()\n",
    "    return df\n",
    "\n",
    "df = clean_data(df)\n",
    "\n",
    "# Función para remover el prefijo \"Reported \" de las fechas\n",
    "def remove_prefix(date):\n",
    "    if isinstance(date, str) and date.startswith(\"Reported \"):\n",
    "        return date[len(\"Reported \"):]\n",
    "    return date\n",
    "\n",
    "# Función para corregir el formato de las fechas\n",
    "def fix_format_date(date):\n",
    "    if isinstance(date, str):\n",
    "        try:\n",
    "            correct_date_format = pd.to_datetime(date, format='%d-%b-%Y', errors='coerce')\n",
    "            return correct_date_format.strftime('%d-%m-%Y') if correct_date_format else None\n",
    "        except ValueError:\n",
    "            return None\n",
    "    return None\n",
    "\n",
    "# Aplicar las funciones de limpieza de fechas\n",
    "df['date'] = df['date'].apply(remove_prefix)\n",
    "df['date'] = df['date'].apply(fix_format_date)\n",
    "\n",
    "def filter_date(df):\n",
    "    df.date= pd.to_datetime(df.date,  errors='coerce')\n",
    "    df[df.date >= pd.to_datetime('2020-01-01') ]\n",
    "    return df\n",
    "df = filter_date(df)\n",
    "print(df)\n"
   ]
  }
 ],
 "metadata": {
  "kernelspec": {
   "display_name": "base",
   "language": "python",
   "name": "python3"
  },
  "language_info": {
   "codemirror_mode": {
    "name": "ipython",
    "version": 3
   },
   "file_extension": ".py",
   "mimetype": "text/x-python",
   "name": "python",
   "nbconvert_exporter": "python",
   "pygments_lexer": "ipython3",
   "version": "3.12.4"
  }
 },
 "nbformat": 4,
 "nbformat_minor": 2
}
