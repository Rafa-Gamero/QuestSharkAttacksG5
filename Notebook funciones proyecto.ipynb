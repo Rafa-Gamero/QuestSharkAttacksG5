{
 "cells": [
  {
   "cell_type": "code",
   "execution_count": 1,
   "metadata": {},
   "outputs": [
    {
     "name": "stdout",
     "output_type": "stream",
     "text": [
      "Number of rows: 6969\n",
      "Number of columns: 23\n"
     ]
    }
   ],
   "source": [
    "#Import datos \n",
    "import pandas as pd\n",
    "url = 'https://www.sharkattackfile.net/spreadsheets/GSAF5.xls'\n",
    "\n",
    "df = pd.read_excel(url)\n",
    "\n",
    "num_rows, num_columns = df.shape\n",
    "print(f\"Number of rows: {num_rows}\")\n",
    "print(f\"Number of columns: {num_columns}\")"
   ]
  },
  {
   "cell_type": "code",
   "execution_count": 2,
   "metadata": {},
   "outputs": [
    {
     "name": "stdout",
     "output_type": "stream",
     "text": [
      "Date               object\n",
      "Year              float64\n",
      "Type               object\n",
      "Country            object\n",
      "State              object\n",
      "Location           object\n",
      "Activity           object\n",
      "Name               object\n",
      "Sex                object\n",
      "Age                object\n",
      "Injury             object\n",
      "Unnamed: 11        object\n",
      "Time               object\n",
      "Species            object\n",
      "Source             object\n",
      "pdf                object\n",
      "href formula       object\n",
      "href               object\n",
      "Case Number        object\n",
      "Case Number.1      object\n",
      "original order    float64\n",
      "Unnamed: 21        object\n",
      "Unnamed: 22        object\n",
      "dtype: object\n",
      "          Date    Year        Type    Country              State  \\\n",
      "0  15 Mar 2024  2024.0  Unprovoked  AUSTRALIA         Queensland   \n",
      "1  04 Mar 2024  2024.0  Unprovoked        USA             Hawaii   \n",
      "2  02 Mar-2024  2024.0  Unprovoked        USA             Hawaii   \n",
      "3  25 Feb-2024  2024.0  Unprovoked  AUSTRALIA  Western Australia   \n",
      "4  14 Feb-2024  2024.0  Unprovoked      INDIA        Maharashtra   \n",
      "\n",
      "                           Location  Activity                 Name Sex  Age  \\\n",
      "0                     Bargara Beach  Swimming       Brooklyn Sauer   F   13   \n",
      "1                Old Man's, Waikiki   Surfing        Matthew White   M  NaN   \n",
      "2                    Rainbows, Oahu  Swimming                  NaN   F   11   \n",
      "3        Sandlnd Island, Jurian Bay       NaN               female   F   46   \n",
      "4  Vaitarna River, Palghar District   Fishing  Vicky Suresh Govari   M   32   \n",
      "\n",
      "   ...        Species                      Source  pdf href formula href  \\\n",
      "0  ...     Tiger shark      Yahoo News, 3/15/2024  NaN          NaN  NaN   \n",
      "1  ...  Tiger shark 8'          Surfer, 3/6/2024F  NaN          NaN  NaN   \n",
      "2  ...  3' to 4' shark  Hawaii News Now, 3/4/2024  NaN          NaN  NaN   \n",
      "3  ...     Tiger shark        WA Today, 2/26/2024  NaN          NaN  NaN   \n",
      "4  ...  Bull shark, 7'  Times of India, 2/14/2024  NaN          NaN  NaN   \n",
      "\n",
      "  Case Number Case Number.1 original order Unnamed: 21 Unnamed: 22  \n",
      "0         NaN           NaN            NaN         NaN         NaN  \n",
      "1         NaN           NaN            NaN         NaN         NaN  \n",
      "2         NaN           NaN            NaN         NaN         NaN  \n",
      "3         NaN           NaN            NaN         NaN         NaN  \n",
      "4         NaN           NaN            NaN         NaN         NaN  \n",
      "\n",
      "[5 rows x 23 columns]\n",
      "Date                25\n",
      "Year                27\n",
      "Type                43\n",
      "Country             75\n",
      "State              507\n",
      "Location           590\n",
      "Activity           611\n",
      "Name               245\n",
      "Sex                604\n",
      "Age               3019\n",
      "Injury              60\n",
      "Unnamed: 11        587\n",
      "Time              3551\n",
      "Species           3157\n",
      "Source              44\n",
      "pdf                170\n",
      "href formula       150\n",
      "href               173\n",
      "Case Number        171\n",
      "Case Number.1      172\n",
      "original order     170\n",
      "Unnamed: 21       6968\n",
      "Unnamed: 22       6967\n",
      "dtype: int64\n",
      "24\n"
     ]
    }
   ],
   "source": [
    "data_type = df.dtypes\n",
    "\n",
    "print(data_type)\n",
    "print(df.head())\n",
    "print(df.isnull().sum())\n",
    "print(df.duplicated().sum())"
   ]
  },
  {
   "cell_type": "code",
   "execution_count": 3,
   "metadata": {},
   "outputs": [],
   "source": [
    "def remove_prefix(date):\n",
    "    # Make sure date is a string\n",
    "    if isinstance(date, str) and date.startswith(\"Reported \"):\n",
    "        # If the date starts with \"Reported\", we return what comes after that\n",
    "        return date[len(\"Reported \"):]\n",
    "    # Return the original value if its not a string or doesn't start with the prefix\n",
    "    return date"
   ]
  },
  {
   "cell_type": "code",
   "execution_count": 4,
   "metadata": {},
   "outputs": [],
   "source": [
    "def fix_format_date(date):\n",
    "    # Make sure date is a string before trying to convert it\n",
    "    if isinstance(date, str):\n",
    "        try:\n",
    "            # Convert the value to datetime format with the format dd-mmm-yyyy\n",
    "            correct_date_format = pd.to_datetime(date, format='%d-%b-%Y', errors='raise')\n",
    "            # Return the date in dd-mm-yyyy format\n",
    "            return correct_date_format.strftime('%d-%m-%Y')\n",
    "        except ValueError:\n",
    "            return None\n",
    "    # If date is not a string we return None\n",
    "    return None\n",
    "    "
   ]
  },
  {
   "cell_type": "code",
   "execution_count": 5,
   "metadata": {},
   "outputs": [
    {
     "data": {
      "text/plain": [
       "1183    03-04-2014\n",
       "4309    23-06-1964\n",
       "5043    06-04-1952\n",
       "6459          None\n",
       "2601    03-12-2000\n",
       "1             None\n",
       "1704    13-09-2009\n",
       "6512          None\n",
       "3625    09-11-1981\n",
       "4267    10-01-1965\n",
       "5376    09-03-1941\n",
       "1504    31-07-2011\n",
       "6103    05-09-1906\n",
       "821     12-10-2016\n",
       "1161    07-06-2014\n",
       "5437    27-12-1938\n",
       "6532    03-04-1872\n",
       "3296    07-07-1989\n",
       "507     14-05-2019\n",
       "1841    26-07-2008\n",
       "2966    26-08-1995\n",
       "710     26-08-2017\n",
       "4017    15-06-1970\n",
       "5165          None\n",
       "2658    02-07-2000\n",
       "1193    02-03-2014\n",
       "3078    28-11-1993\n",
       "3276    14-10-1989\n",
       "580     01-09-2018\n",
       "6176    23-09-1901\n",
       "3499    22-09-1984\n",
       "4116          None\n",
       "5501    11-08-1936\n",
       "3361    10-04-1988\n",
       "3470    21-07-1985\n",
       "1040    09-05-2015\n",
       "6791          None\n",
       "2929          None\n",
       "6281    28-11-1894\n",
       "3619          None\n",
       "3015    02-01-1995\n",
       "2623    16-09-2000\n",
       "2605    17-11-2000\n",
       "567     29-09-2018\n",
       "5110    01-03-1950\n",
       "1714    06-08-2009\n",
       "3651    16-05-1981\n",
       "2693          None\n",
       "5469    12-09-1937\n",
       "3782    29-12-1976\n",
       "Name: Date, dtype: object"
      ]
     },
     "execution_count": 5,
     "metadata": {},
     "output_type": "execute_result"
    }
   ],
   "source": [
    "df['Date'] = df['Date'].apply(remove_prefix)\n",
    "df['Date'] = df['Date'].apply(fix_format_date)\n",
    "df['Date'].sample(50)"
   ]
  },
  {
   "cell_type": "code",
   "execution_count": null,
   "metadata": {},
   "outputs": [],
   "source": []
  }
 ],
 "metadata": {
  "kernelspec": {
   "display_name": "base",
   "language": "python",
   "name": "python3"
  },
  "language_info": {
   "codemirror_mode": {
    "name": "ipython",
    "version": 3
   },
   "file_extension": ".py",
   "mimetype": "text/x-python",
   "name": "python",
   "nbconvert_exporter": "python",
   "pygments_lexer": "ipython3",
   "version": "3.12.4"
  }
 },
 "nbformat": 4,
 "nbformat_minor": 2
}
