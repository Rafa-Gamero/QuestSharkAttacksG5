{
 "cells": [
  {
   "cell_type": "code",
   "execution_count": 2,
   "metadata": {},
   "outputs": [
    {
     "name": "stdout",
     "output_type": "stream",
     "text": [
      "Number of rows: 6969\n",
      "Number of columns: 23\n"
     ]
    }
   ],
   "source": [
    "#Import datos \n",
    "import pandas as pd\n",
    "url = 'https://www.sharkattackfile.net/spreadsheets/GSAF5.xls'\n",
    "\n",
    "df = pd.read_excel(url)\n",
    "\n",
    "num_rows, num_columns = df.shape\n",
    "print(f\"Number of rows: {num_rows}\")\n",
    "print(f\"Number of columns: {num_columns}\")"
   ]
  },
  {
   "cell_type": "code",
   "execution_count": 3,
   "metadata": {},
   "outputs": [
    {
     "name": "stdout",
     "output_type": "stream",
     "text": [
      "Date               object\n",
      "Year              float64\n",
      "Type               object\n",
      "Country            object\n",
      "State              object\n",
      "Location           object\n",
      "Activity           object\n",
      "Name               object\n",
      "Sex                object\n",
      "Age                object\n",
      "Injury             object\n",
      "Unnamed: 11        object\n",
      "Time               object\n",
      "Species            object\n",
      "Source             object\n",
      "pdf                object\n",
      "href formula       object\n",
      "href               object\n",
      "Case Number        object\n",
      "Case Number.1      object\n",
      "original order    float64\n",
      "Unnamed: 21        object\n",
      "Unnamed: 22        object\n",
      "dtype: object\n",
      "          Date    Year        Type    Country              State  \\\n",
      "0  15 Mar 2024  2024.0  Unprovoked  AUSTRALIA         Queensland   \n",
      "1  04 Mar 2024  2024.0  Unprovoked        USA             Hawaii   \n",
      "2  02 Mar-2024  2024.0  Unprovoked        USA             Hawaii   \n",
      "3  25 Feb-2024  2024.0  Unprovoked  AUSTRALIA  Western Australia   \n",
      "4  14 Feb-2024  2024.0  Unprovoked      INDIA        Maharashtra   \n",
      "\n",
      "                           Location  Activity                 Name Sex  Age  \\\n",
      "0                     Bargara Beach  Swimming       Brooklyn Sauer   F   13   \n",
      "1                Old Man's, Waikiki   Surfing        Matthew White   M  NaN   \n",
      "2                    Rainbows, Oahu  Swimming                  NaN   F   11   \n",
      "3        Sandlnd Island, Jurian Bay       NaN               female   F   46   \n",
      "4  Vaitarna River, Palghar District   Fishing  Vicky Suresh Govari   M   32   \n",
      "\n",
      "   ...        Species                      Source  pdf href formula href  \\\n",
      "0  ...     Tiger shark      Yahoo News, 3/15/2024  NaN          NaN  NaN   \n",
      "1  ...  Tiger shark 8'          Surfer, 3/6/2024F  NaN          NaN  NaN   \n",
      "2  ...  3' to 4' shark  Hawaii News Now, 3/4/2024  NaN          NaN  NaN   \n",
      "3  ...     Tiger shark        WA Today, 2/26/2024  NaN          NaN  NaN   \n",
      "4  ...  Bull shark, 7'  Times of India, 2/14/2024  NaN          NaN  NaN   \n",
      "\n",
      "  Case Number Case Number.1 original order Unnamed: 21 Unnamed: 22  \n",
      "0         NaN           NaN            NaN         NaN         NaN  \n",
      "1         NaN           NaN            NaN         NaN         NaN  \n",
      "2         NaN           NaN            NaN         NaN         NaN  \n",
      "3         NaN           NaN            NaN         NaN         NaN  \n",
      "4         NaN           NaN            NaN         NaN         NaN  \n",
      "\n",
      "[5 rows x 23 columns]\n",
      "Date                25\n",
      "Year                27\n",
      "Type                43\n",
      "Country             75\n",
      "State              507\n",
      "Location           590\n",
      "Activity           611\n",
      "Name               245\n",
      "Sex                604\n",
      "Age               3019\n",
      "Injury              60\n",
      "Unnamed: 11        587\n",
      "Time              3551\n",
      "Species           3157\n",
      "Source              44\n",
      "pdf                170\n",
      "href formula       150\n",
      "href               173\n",
      "Case Number        171\n",
      "Case Number.1      172\n",
      "original order     170\n",
      "Unnamed: 21       6968\n",
      "Unnamed: 22       6967\n",
      "dtype: int64\n",
      "24\n"
     ]
    }
   ],
   "source": [
    "data_type = df.dtypes\n",
    "\n",
    "print(data_type)\n",
    "print(df.head())\n",
    "print(df.isnull().sum())\n",
    "print(df.duplicated().sum())"
   ]
  },
  {
   "cell_type": "code",
   "execution_count": 4,
   "metadata": {},
   "outputs": [],
   "source": [
    "def remove_prefix(date):\n",
    "    # Make sure date is a string\n",
    "    if isinstance(date, str) and date.startswith(\"Reported \"):\n",
    "        # If the date starts with \"Reported\", we return what comes after that\n",
    "        return date[len(\"Reported \"):]\n",
    "    # Return the original value if its not a string or doesn't start with the prefix\n",
    "    return date"
   ]
  },
  {
   "cell_type": "code",
   "execution_count": 5,
   "metadata": {},
   "outputs": [],
   "source": [
    "def fix_format_date(date):\n",
    "    # Make sure date is a string before trying to convert it\n",
    "    if isinstance(date, str):\n",
    "        try:\n",
    "            # Convert the value to datetime format with the format dd-mmm-yyyy\n",
    "            correct_date_format = pd.to_datetime(date, format='%d-%b-%Y', errors='raise')\n",
    "            # Return the date in dd-mm-yyyy format\n",
    "            return correct_date_format.strftime('%d-%m-%Y')\n",
    "        except ValueError:\n",
    "            return None\n",
    "    # If date is not a string we return None\n",
    "    return None\n",
    "    "
   ]
  },
  {
   "cell_type": "code",
   "execution_count": 6,
   "metadata": {},
   "outputs": [
    {
     "data": {
      "text/plain": [
       "3476    03-03-1985\n",
       "4201    11-06-1966\n",
       "3683    23-07-1980\n",
       "2224    26-02-2005\n",
       "1838    30-07-2008\n",
       "3922    27-08-1973\n",
       "3304    12-04-1989\n",
       "4891    05-01-1956\n",
       "242     07-08-2021\n",
       "5006    01-07-1953\n",
       "1716          None\n",
       "1397    14-06-2012\n",
       "3184    08-01-1992\n",
       "1765    02-03-2009\n",
       "1835    12-08-2008\n",
       "6425          None\n",
       "5150    13-01-1949\n",
       "5259          None\n",
       "2514    18-09-2001\n",
       "4041          None\n",
       "1293    28-04-2013\n",
       "4754    28-12-1958\n",
       "4418    22-09-1962\n",
       "3128    02-01-1993\n",
       "4293    22-08-1964\n",
       "2744    18-03-1999\n",
       "4989    22-12-1953\n",
       "3428          None\n",
       "1109    02-10-2014\n",
       "6357    23-10-1888\n",
       "6183    27-12-1900\n",
       "3853    18-04-1975\n",
       "3102    30-07-1993\n",
       "2             None\n",
       "2541    05-08-2001\n",
       "2840    08-09-1997\n",
       "2135    29-11-2005\n",
       "5333    12-09-1942\n",
       "3326    22-10-1988\n",
       "551     11-11-2018\n",
       "3593    24-07-1982\n",
       "4284    05-11-1964\n",
       "890     21-05-2016\n",
       "6850          None\n",
       "2573    12-04-2001\n",
       "4945    09-12-1954\n",
       "3628    16-10-1981\n",
       "3052    24-05-1994\n",
       "4397    11-01-1963\n",
       "6364    18-06-1888\n",
       "Name: Date, dtype: object"
      ]
     },
     "execution_count": 6,
     "metadata": {},
     "output_type": "execute_result"
    }
   ],
   "source": [
    "df['Date'] = df['Date'].apply(remove_prefix)\n",
    "df['Date'] = df['Date'].apply(fix_format_date)\n",
    "df['Date'].sample(50)"
   ]
  },
  {
   "cell_type": "code",
   "execution_count": 8,
   "metadata": {},
   "outputs": [
    {
     "data": {
      "text/plain": [
       "Index(['Date', 'Year', 'Type', 'Country', 'State', 'Location', 'Activity',\n",
       "       'Name', 'Sex', 'Age', 'Injury', 'Unnamed: 11', 'Time', 'Species ',\n",
       "       'Source', 'pdf', 'href formula', 'href', 'Case Number', 'Case Number.1',\n",
       "       'original order', 'Unnamed: 21', 'Unnamed: 22'],\n",
       "      dtype='object')"
      ]
     },
     "execution_count": 8,
     "metadata": {},
     "output_type": "execute_result"
    }
   ],
   "source": [
    "df.columns"
   ]
  }
 ],
 "metadata": {
  "kernelspec": {
   "display_name": "base",
   "language": "python",
   "name": "python3"
  },
  "language_info": {
   "codemirror_mode": {
    "name": "ipython",
    "version": 3
   },
   "file_extension": ".py",
   "mimetype": "text/x-python",
   "name": "python",
   "nbconvert_exporter": "python",
   "pygments_lexer": "ipython3",
   "version": "3.12.4"
  }
 },
 "nbformat": 4,
 "nbformat_minor": 2
}
