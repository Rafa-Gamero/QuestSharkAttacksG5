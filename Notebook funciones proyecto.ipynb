{
 "cells": [
  {
   "cell_type": "code",
   "execution_count": 4,
   "metadata": {},
   "outputs": [
    {
     "name": "stdout",
     "output_type": "stream",
     "text": [
      "Number of rows: 6969\n",
      "Number of columns: 23\n"
     ]
    }
   ],
   "source": [
    "#Import datos \n",
    "import pandas as pd\n",
    "url = 'https://www.sharkattackfile.net/spreadsheets/GSAF5.xls'\n",
    "\n",
    "df = pd.read_excel(url)\n",
    "\n",
    "num_rows, num_columns = df.shape\n",
    "print(f\"Number of rows: {num_rows}\")\n",
    "print(f\"Number of columns: {num_columns}\")"
   ]
  },
  {
   "cell_type": "code",
   "execution_count": 9,
   "metadata": {},
   "outputs": [
    {
     "name": "stdout",
     "output_type": "stream",
     "text": [
      "Date               object\n",
      "Year              float64\n",
      "Type               object\n",
      "Country            object\n",
      "State              object\n",
      "Location           object\n",
      "Activity           object\n",
      "Name               object\n",
      "Sex                object\n",
      "Age                object\n",
      "Injury             object\n",
      "Unnamed: 11        object\n",
      "Time               object\n",
      "Species            object\n",
      "Source             object\n",
      "pdf                object\n",
      "href formula       object\n",
      "href               object\n",
      "Case Number        object\n",
      "Case Number.1      object\n",
      "original order    float64\n",
      "Unnamed: 21        object\n",
      "Unnamed: 22        object\n",
      "dtype: object\n",
      "          Date    Year        Type    Country              State  \\\n",
      "0  15 Mar 2024  2024.0  Unprovoked  AUSTRALIA         Queensland   \n",
      "1  04 Mar 2024  2024.0  Unprovoked        USA             Hawaii   \n",
      "2  02 Mar-2024  2024.0  Unprovoked        USA             Hawaii   \n",
      "3  25 Feb-2024  2024.0  Unprovoked  AUSTRALIA  Western Australia   \n",
      "4  14 Feb-2024  2024.0  Unprovoked      INDIA        Maharashtra   \n",
      "\n",
      "                           Location  Activity                 Name Sex  Age  \\\n",
      "0                     Bargara Beach  Swimming       Brooklyn Sauer   F   13   \n",
      "1                Old Man's, Waikiki   Surfing        Matthew White   M  NaN   \n",
      "2                    Rainbows, Oahu  Swimming                  NaN   F   11   \n",
      "3        Sandlnd Island, Jurian Bay       NaN               female   F   46   \n",
      "4  Vaitarna River, Palghar District   Fishing  Vicky Suresh Govari   M   32   \n",
      "\n",
      "   ...        Species                      Source  pdf href formula href  \\\n",
      "0  ...     Tiger shark      Yahoo News, 3/15/2024  NaN          NaN  NaN   \n",
      "1  ...  Tiger shark 8'          Surfer, 3/6/2024F  NaN          NaN  NaN   \n",
      "2  ...  3' to 4' shark  Hawaii News Now, 3/4/2024  NaN          NaN  NaN   \n",
      "3  ...     Tiger shark        WA Today, 2/26/2024  NaN          NaN  NaN   \n",
      "4  ...  Bull shark, 7'  Times of India, 2/14/2024  NaN          NaN  NaN   \n",
      "\n",
      "  Case Number Case Number.1 original order Unnamed: 21 Unnamed: 22  \n",
      "0         NaN           NaN            NaN         NaN         NaN  \n",
      "1         NaN           NaN            NaN         NaN         NaN  \n",
      "2         NaN           NaN            NaN         NaN         NaN  \n",
      "3         NaN           NaN            NaN         NaN         NaN  \n",
      "4         NaN           NaN            NaN         NaN         NaN  \n",
      "\n",
      "[5 rows x 23 columns]\n",
      "Date                25\n",
      "Year                27\n",
      "Type                43\n",
      "Country             75\n",
      "State              507\n",
      "Location           590\n",
      "Activity           611\n",
      "Name               245\n",
      "Sex                604\n",
      "Age               3019\n",
      "Injury              60\n",
      "Unnamed: 11        587\n",
      "Time              3551\n",
      "Species           3157\n",
      "Source              44\n",
      "pdf                170\n",
      "href formula       150\n",
      "href               173\n",
      "Case Number        171\n",
      "Case Number.1      172\n",
      "original order     170\n",
      "Unnamed: 21       6968\n",
      "Unnamed: 22       6967\n",
      "dtype: int64\n",
      "24\n"
     ]
    }
   ],
   "source": [
    "data_type = df.dtypes\n",
    "\n",
    "print(data_type)\n",
    "print(df.head())\n",
    "print(df.isnull().sum())\n",
    "print(df.duplicated().sum())"
   ]
  },
  {
   "cell_type": "code",
   "execution_count": 4,
   "metadata": {},
   "outputs": [
    {
     "data": {
      "text/plain": [
       "Date                25\n",
       "Year                27\n",
       "Type                43\n",
       "Country             75\n",
       "State              507\n",
       "Location           590\n",
       "Activity           611\n",
       "Name               245\n",
       "Sex                604\n",
       "Age               3019\n",
       "Injury              60\n",
       "Unnamed: 11        587\n",
       "Time              3551\n",
       "Species           3157\n",
       "Source              44\n",
       "pdf                170\n",
       "href formula       150\n",
       "href               173\n",
       "Case Number        171\n",
       "Case Number.1      172\n",
       "original order     170\n",
       "Unnamed: 21       6968\n",
       "Unnamed: 22       6967\n",
       "dtype: int64"
      ]
     },
     "execution_count": 4,
     "metadata": {},
     "output_type": "execute_result"
    }
   ],
   "source": [
    "import pandas as pd\n",
    "url = 'https://www.sharkattackfile.net/spreadsheets/GSAF5.xls'\n",
    "\n",
    "df = pd.read_excel(url)\n",
    "\n",
    "df.isnull().sum()\n"
   ]
  },
  {
   "cell_type": "code",
   "execution_count": null,
   "metadata": {},
   "outputs": [],
   "source": []
  }
 ],
 "metadata": {
  "kernelspec": {
   "display_name": "base",
   "language": "python",
   "name": "python3"
  },
  "language_info": {
   "codemirror_mode": {
    "name": "ipython",
    "version": 3
   },
   "file_extension": ".py",
   "mimetype": "text/x-python",
   "name": "python",
   "nbconvert_exporter": "python",
   "pygments_lexer": "ipython3",
   "version": "3.12.4"
  }
 },
 "nbformat": 4,
 "nbformat_minor": 2
}
